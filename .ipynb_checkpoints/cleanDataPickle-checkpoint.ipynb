{
 "cells": [
  {
   "cell_type": "code",
   "execution_count": 1,
   "metadata": {},
   "outputs": [],
   "source": [
    "import pandas as pd\n",
    "import glob\n",
    "import numpy as np\n",
    "import functools\n",
    "import sys\n",
    "import pickle\n",
    "from datetime import date"
   ]
  },
  {
   "cell_type": "code",
   "execution_count": 2,
   "metadata": {},
   "outputs": [],
   "source": [
    "df = pd.read_csv('mta_data.csv', index_col=None, header=0)"
   ]
  },
  {
   "cell_type": "code",
   "execution_count": 3,
   "metadata": {},
   "outputs": [],
   "source": [
    "df.columns = df.columns.str.strip()"
   ]
  },
  {
   "cell_type": "code",
   "execution_count": 4,
   "metadata": {},
   "outputs": [],
   "source": [
    "df['TIMESTAMP'] = pd.to_datetime((df.DATE + ' ' + df.TIME), format='%m/%d/%Y %H:%M:%S')"
   ]
  },
  {
   "cell_type": "code",
   "execution_count": 5,
   "metadata": {},
   "outputs": [
    {
     "data": {
      "text/plain": [
       "C/A                  object\n",
       "UNIT                 object\n",
       "SCP                  object\n",
       "STATION              object\n",
       "LINENAME             object\n",
       "DIVISION             object\n",
       "DATE                 object\n",
       "TIME                 object\n",
       "DESC                 object\n",
       "ENTRIES             float64\n",
       "EXITS               float64\n",
       "TIMESTAMP    datetime64[ns]\n",
       "dtype: object"
      ]
     },
     "execution_count": 5,
     "metadata": {},
     "output_type": "execute_result"
    }
   ],
   "source": [
    "df.dtypes"
   ]
  },
  {
   "cell_type": "code",
   "execution_count": 6,
   "metadata": {},
   "outputs": [
    {
     "data": {
      "text/html": [
       "<div>\n",
       "<style scoped>\n",
       "    .dataframe tbody tr th:only-of-type {\n",
       "        vertical-align: middle;\n",
       "    }\n",
       "\n",
       "    .dataframe tbody tr th {\n",
       "        vertical-align: top;\n",
       "    }\n",
       "\n",
       "    .dataframe thead th {\n",
       "        text-align: right;\n",
       "    }\n",
       "</style>\n",
       "<table border=\"1\" class=\"dataframe\">\n",
       "  <thead>\n",
       "    <tr style=\"text-align: right;\">\n",
       "      <th></th>\n",
       "      <th>C/A</th>\n",
       "      <th>UNIT</th>\n",
       "      <th>SCP</th>\n",
       "      <th>STATION</th>\n",
       "      <th>LINENAME</th>\n",
       "      <th>DIVISION</th>\n",
       "      <th>DATE</th>\n",
       "      <th>TIME</th>\n",
       "      <th>DESC</th>\n",
       "      <th>ENTRIES</th>\n",
       "      <th>EXITS</th>\n",
       "      <th>TIMESTAMP</th>\n",
       "    </tr>\n",
       "  </thead>\n",
       "  <tbody>\n",
       "    <tr>\n",
       "      <th>0</th>\n",
       "      <td>A002</td>\n",
       "      <td>R051</td>\n",
       "      <td>02-00-00</td>\n",
       "      <td>59 ST</td>\n",
       "      <td>NQR456W</td>\n",
       "      <td>BMT</td>\n",
       "      <td>01/19/2019</td>\n",
       "      <td>03:00:00</td>\n",
       "      <td>REGULAR</td>\n",
       "      <td>6914752.0</td>\n",
       "      <td>2344809.0</td>\n",
       "      <td>2019-01-19 03:00:00</td>\n",
       "    </tr>\n",
       "    <tr>\n",
       "      <th>1</th>\n",
       "      <td>A002</td>\n",
       "      <td>R051</td>\n",
       "      <td>02-00-00</td>\n",
       "      <td>59 ST</td>\n",
       "      <td>NQR456W</td>\n",
       "      <td>BMT</td>\n",
       "      <td>01/19/2019</td>\n",
       "      <td>07:00:00</td>\n",
       "      <td>REGULAR</td>\n",
       "      <td>6914764.0</td>\n",
       "      <td>2344821.0</td>\n",
       "      <td>2019-01-19 07:00:00</td>\n",
       "    </tr>\n",
       "    <tr>\n",
       "      <th>2</th>\n",
       "      <td>A002</td>\n",
       "      <td>R051</td>\n",
       "      <td>02-00-00</td>\n",
       "      <td>59 ST</td>\n",
       "      <td>NQR456W</td>\n",
       "      <td>BMT</td>\n",
       "      <td>01/19/2019</td>\n",
       "      <td>11:00:00</td>\n",
       "      <td>REGULAR</td>\n",
       "      <td>6914825.0</td>\n",
       "      <td>2344898.0</td>\n",
       "      <td>2019-01-19 11:00:00</td>\n",
       "    </tr>\n",
       "    <tr>\n",
       "      <th>3</th>\n",
       "      <td>A002</td>\n",
       "      <td>R051</td>\n",
       "      <td>02-00-00</td>\n",
       "      <td>59 ST</td>\n",
       "      <td>NQR456W</td>\n",
       "      <td>BMT</td>\n",
       "      <td>01/19/2019</td>\n",
       "      <td>15:00:00</td>\n",
       "      <td>REGULAR</td>\n",
       "      <td>6915047.0</td>\n",
       "      <td>2344971.0</td>\n",
       "      <td>2019-01-19 15:00:00</td>\n",
       "    </tr>\n",
       "    <tr>\n",
       "      <th>4</th>\n",
       "      <td>A002</td>\n",
       "      <td>R051</td>\n",
       "      <td>02-00-00</td>\n",
       "      <td>59 ST</td>\n",
       "      <td>NQR456W</td>\n",
       "      <td>BMT</td>\n",
       "      <td>01/19/2019</td>\n",
       "      <td>19:00:00</td>\n",
       "      <td>REGULAR</td>\n",
       "      <td>6915367.0</td>\n",
       "      <td>2345026.0</td>\n",
       "      <td>2019-01-19 19:00:00</td>\n",
       "    </tr>\n",
       "    <tr>\n",
       "      <th>...</th>\n",
       "      <td>...</td>\n",
       "      <td>...</td>\n",
       "      <td>...</td>\n",
       "      <td>...</td>\n",
       "      <td>...</td>\n",
       "      <td>...</td>\n",
       "      <td>...</td>\n",
       "      <td>...</td>\n",
       "      <td>...</td>\n",
       "      <td>...</td>\n",
       "      <td>...</td>\n",
       "      <td>...</td>\n",
       "    </tr>\n",
       "    <tr>\n",
       "      <th>12886148</th>\n",
       "      <td>TRAM2</td>\n",
       "      <td>R469</td>\n",
       "      <td>00-05-01</td>\n",
       "      <td>RIT-ROOSEVELT</td>\n",
       "      <td>R</td>\n",
       "      <td>RIT</td>\n",
       "      <td>12/20/2019</td>\n",
       "      <td>04:00:00</td>\n",
       "      <td>REGULAR</td>\n",
       "      <td>5554.0</td>\n",
       "      <td>420.0</td>\n",
       "      <td>2019-12-20 04:00:00</td>\n",
       "    </tr>\n",
       "    <tr>\n",
       "      <th>12886149</th>\n",
       "      <td>TRAM2</td>\n",
       "      <td>R469</td>\n",
       "      <td>00-05-01</td>\n",
       "      <td>RIT-ROOSEVELT</td>\n",
       "      <td>R</td>\n",
       "      <td>RIT</td>\n",
       "      <td>12/20/2019</td>\n",
       "      <td>08:00:00</td>\n",
       "      <td>REGULAR</td>\n",
       "      <td>5554.0</td>\n",
       "      <td>420.0</td>\n",
       "      <td>2019-12-20 08:00:00</td>\n",
       "    </tr>\n",
       "    <tr>\n",
       "      <th>12886150</th>\n",
       "      <td>TRAM2</td>\n",
       "      <td>R469</td>\n",
       "      <td>00-05-01</td>\n",
       "      <td>RIT-ROOSEVELT</td>\n",
       "      <td>R</td>\n",
       "      <td>RIT</td>\n",
       "      <td>12/20/2019</td>\n",
       "      <td>12:00:00</td>\n",
       "      <td>REGULAR</td>\n",
       "      <td>5554.0</td>\n",
       "      <td>420.0</td>\n",
       "      <td>2019-12-20 12:00:00</td>\n",
       "    </tr>\n",
       "    <tr>\n",
       "      <th>12886151</th>\n",
       "      <td>TRAM2</td>\n",
       "      <td>R469</td>\n",
       "      <td>00-05-01</td>\n",
       "      <td>RIT-ROOSEVELT</td>\n",
       "      <td>R</td>\n",
       "      <td>RIT</td>\n",
       "      <td>12/20/2019</td>\n",
       "      <td>16:00:00</td>\n",
       "      <td>REGULAR</td>\n",
       "      <td>5554.0</td>\n",
       "      <td>420.0</td>\n",
       "      <td>2019-12-20 16:00:00</td>\n",
       "    </tr>\n",
       "    <tr>\n",
       "      <th>12886152</th>\n",
       "      <td>TRAM2</td>\n",
       "      <td>R469</td>\n",
       "      <td>00-05-01</td>\n",
       "      <td>RIT-ROOSEVELT</td>\n",
       "      <td>R</td>\n",
       "      <td>RIT</td>\n",
       "      <td>12/20/2019</td>\n",
       "      <td>20:00:00</td>\n",
       "      <td>REGULAR</td>\n",
       "      <td>5554.0</td>\n",
       "      <td>420.0</td>\n",
       "      <td>2019-12-20 20:00:00</td>\n",
       "    </tr>\n",
       "  </tbody>\n",
       "</table>\n",
       "<p>12886153 rows × 12 columns</p>\n",
       "</div>"
      ],
      "text/plain": [
       "            C/A  UNIT       SCP        STATION LINENAME DIVISION        DATE  \\\n",
       "0          A002  R051  02-00-00          59 ST  NQR456W      BMT  01/19/2019   \n",
       "1          A002  R051  02-00-00          59 ST  NQR456W      BMT  01/19/2019   \n",
       "2          A002  R051  02-00-00          59 ST  NQR456W      BMT  01/19/2019   \n",
       "3          A002  R051  02-00-00          59 ST  NQR456W      BMT  01/19/2019   \n",
       "4          A002  R051  02-00-00          59 ST  NQR456W      BMT  01/19/2019   \n",
       "...         ...   ...       ...            ...      ...      ...         ...   \n",
       "12886148  TRAM2  R469  00-05-01  RIT-ROOSEVELT        R      RIT  12/20/2019   \n",
       "12886149  TRAM2  R469  00-05-01  RIT-ROOSEVELT        R      RIT  12/20/2019   \n",
       "12886150  TRAM2  R469  00-05-01  RIT-ROOSEVELT        R      RIT  12/20/2019   \n",
       "12886151  TRAM2  R469  00-05-01  RIT-ROOSEVELT        R      RIT  12/20/2019   \n",
       "12886152  TRAM2  R469  00-05-01  RIT-ROOSEVELT        R      RIT  12/20/2019   \n",
       "\n",
       "              TIME     DESC    ENTRIES      EXITS           TIMESTAMP  \n",
       "0         03:00:00  REGULAR  6914752.0  2344809.0 2019-01-19 03:00:00  \n",
       "1         07:00:00  REGULAR  6914764.0  2344821.0 2019-01-19 07:00:00  \n",
       "2         11:00:00  REGULAR  6914825.0  2344898.0 2019-01-19 11:00:00  \n",
       "3         15:00:00  REGULAR  6915047.0  2344971.0 2019-01-19 15:00:00  \n",
       "4         19:00:00  REGULAR  6915367.0  2345026.0 2019-01-19 19:00:00  \n",
       "...            ...      ...        ...        ...                 ...  \n",
       "12886148  04:00:00  REGULAR     5554.0      420.0 2019-12-20 04:00:00  \n",
       "12886149  08:00:00  REGULAR     5554.0      420.0 2019-12-20 08:00:00  \n",
       "12886150  12:00:00  REGULAR     5554.0      420.0 2019-12-20 12:00:00  \n",
       "12886151  16:00:00  REGULAR     5554.0      420.0 2019-12-20 16:00:00  \n",
       "12886152  20:00:00  REGULAR     5554.0      420.0 2019-12-20 20:00:00  \n",
       "\n",
       "[12886153 rows x 12 columns]"
      ]
     },
     "execution_count": 6,
     "metadata": {},
     "output_type": "execute_result"
    }
   ],
   "source": [
    "df\n"
   ]
  },
  {
   "cell_type": "code",
   "execution_count": 7,
   "metadata": {},
   "outputs": [],
   "source": [
    "is_returncountervalue = df[(df['DESC'] != 'REGULAR') & (df['DESC'] != 'RECOVR AUD')].index\n",
    "df.drop(is_returncountervalue,inplace=True)"
   ]
  },
  {
   "cell_type": "code",
   "execution_count": 8,
   "metadata": {},
   "outputs": [],
   "source": [
    "df = df.sort_values(by=['C/A','UNIT','SCP','STATION','TIMESTAMP'])"
   ]
  },
  {
   "cell_type": "code",
   "execution_count": 9,
   "metadata": {},
   "outputs": [],
   "source": [
    "df['EXITS_DIFF']=df.groupby(['C/A','UNIT','SCP','STATION'],as_index=False)['EXITS'].transform(pd.Series.diff)['EXITS']"
   ]
  },
  {
   "cell_type": "code",
   "execution_count": 10,
   "metadata": {},
   "outputs": [],
   "source": [
    "df['ENTRIES_DIFF']=df.groupby(['C/A','UNIT','SCP','STATION'],as_index=False)['ENTRIES'].transform(pd.Series.diff)['ENTRIES']"
   ]
  },
  {
   "cell_type": "code",
   "execution_count": 11,
   "metadata": {},
   "outputs": [],
   "source": [
    "is_returncountervalue = df[df['EXITS_DIFF'] < 0].index\n",
    "df.drop(is_returncountervalue,inplace=True)"
   ]
  },
  {
   "cell_type": "code",
   "execution_count": null,
   "metadata": {},
   "outputs": [],
   "source": [
    "is_returncountervalue = df[df['ENTRIES_DIFF'] < 0].index\n",
    "df.drop(is_returncountervalue,inplace=True)"
   ]
  },
  {
   "cell_type": "code",
   "execution_count": null,
   "metadata": {},
   "outputs": [],
   "source": []
  },
  {
   "cell_type": "code",
   "execution_count": null,
   "metadata": {},
   "outputs": [],
   "source": [
    "df['DAY_OF_WEEK'] = df['TIMESTAMP'].dt.day_name()"
   ]
  },
  {
   "cell_type": "code",
   "execution_count": null,
   "metadata": {},
   "outputs": [],
   "source": [
    "df['TOTAL_TRAFFIC'] = df['ENTRIES_DIFF'] + df['EXITS_DIFF']"
   ]
  },
  {
   "cell_type": "code",
   "execution_count": null,
   "metadata": {},
   "outputs": [],
   "source": [
    "is_returncountervalue = df[(df['TOTAL_TRAFFIC'] > 1500000)].index"
   ]
  },
  {
   "cell_type": "code",
   "execution_count": null,
   "metadata": {},
   "outputs": [],
   "source": [
    "df.drop(is_returncountervalue,inplace=True)"
   ]
  },
  {
   "cell_type": "code",
   "execution_count": null,
   "metadata": {},
   "outputs": [],
   "source": [
    "start_date = pd.Timestamp(date(2019,1,1))\n",
    "end_date = pd.Timestamp(date(2019,7,1))\n",
    "\n",
    "df_filter_months = df[(df['TIMESTAMP'] > start_date) & (df['TIMESTAMP'] < end_date)].copy()"
   ]
  },
  {
   "cell_type": "code",
   "execution_count": null,
   "metadata": {},
   "outputs": [],
   "source": [
    "df_filter_months['HOURTIME'] = df_filter_months.TIMESTAMP.apply(lambda x:x.hour)\n",
    "df_filter_months['TIMEFRAME']=df_filter_months.HOURTIME.apply(lambda x: 'EVENING' if (x >13) else 'MORNING' )\n",
    "df_filter_months['WEEKFRAME']=df_filter_months.DAY_OF_WEEK.apply(lambda x: 'WEEKEND' if ((x == 'Saturday') or (x == 'Sunday')) else 'WEEK' )"
   ]
  },
  {
   "cell_type": "code",
   "execution_count": null,
   "metadata": {},
   "outputs": [],
   "source": [
    "with open('DataSet6Months', 'wb') as to_write:\n",
    "    pickle.dump(df_filter_months, to_write)"
   ]
  },
  {
   "cell_type": "code",
   "execution_count": null,
   "metadata": {},
   "outputs": [],
   "source": []
  }
 ],
 "metadata": {
  "kernelspec": {
   "display_name": "Python [conda env:metis] *",
   "language": "python",
   "name": "conda-env-metis-py"
  },
  "language_info": {
   "codemirror_mode": {
    "name": "ipython",
    "version": 3
   },
   "file_extension": ".py",
   "mimetype": "text/x-python",
   "name": "python",
   "nbconvert_exporter": "python",
   "pygments_lexer": "ipython3",
   "version": "3.7.4"
  }
 },
 "nbformat": 4,
 "nbformat_minor": 2
}
