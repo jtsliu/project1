{
 "cells": [
  {
   "cell_type": "code",
   "execution_count": 1,
   "metadata": {},
   "outputs": [],
   "source": [
    "import pandas as pd\n",
    "import glob\n",
    "import numpy as np\n",
    "import functools\n",
    "import sys\n",
    "import pickle\n",
    "from datetime import date"
   ]
  },
  {
   "cell_type": "code",
   "execution_count": 2,
   "metadata": {},
   "outputs": [],
   "source": [
    "with open('cleanedMTAData','rb') as read_file:\n",
    "    df_filter_months = pickle.load(read_file)"
   ]
  },
  {
   "cell_type": "code",
   "execution_count": null,
   "metadata": {},
   "outputs": [],
   "source": [
    "with open('cleanedMTAData_april_to_june','rb') as read_file:\n",
    "    df_filter_months_april_to_june = pickle.load(read_file)"
   ]
  },
  {
   "cell_type": "code",
   "execution_count": null,
   "metadata": {},
   "outputs": [],
   "source": [
    "df_filter_months.dtypes"
   ]
  },
  {
   "cell_type": "code",
   "execution_count": null,
   "metadata": {},
   "outputs": [],
   "source": [
    "df_station = df_filter_months.groupby(['STATION','TIMESTAMP','DAY_OF_WEEK','DATE'],sort = True).sum().reset_index()"
   ]
  },
  {
   "cell_type": "code",
   "execution_count": null,
   "metadata": {},
   "outputs": [],
   "source": [
    "df_station['HOURTIME'] = df_station.TIMESTAMP.apply(lambda x:x.hour)"
   ]
  },
  {
   "cell_type": "code",
   "execution_count": null,
   "metadata": {},
   "outputs": [],
   "source": [
    "df_station"
   ]
  },
  {
   "cell_type": "code",
   "execution_count": null,
   "metadata": {},
   "outputs": [],
   "source": [
    "labels = ['Morning','Afternoon']\n",
    "#df_station['TIMEFRAME'] = df_station.cut(df_station['HOURTIME'] , bins = np.arange(0, df['HOURTIME'], 14), labels = labels) \n",
    "df_station['TIMEFRAME']=df_station.HOURTIME.apply(lambda x: 'EVENING' if (x >13) else 'MORNING' )"
   ]
  },
  {
   "cell_type": "code",
   "execution_count": null,
   "metadata": {},
   "outputs": [],
   "source": [
    "df_station['WEEKFRAME']=df_station.DAY_OF_WEEK.apply(lambda x: 'WEEKEND' if ((x == 'Saturday') or (x == 'Sunday')) else 'WEEK' )"
   ]
  },
  {
   "cell_type": "code",
   "execution_count": null,
   "metadata": {},
   "outputs": [],
   "source": [
    "print(df_station)"
   ]
  },
  {
   "cell_type": "code",
   "execution_count": null,
   "metadata": {},
   "outputs": [],
   "source": [
    "df_perStation = df_filter_months.groupby(['STATION'], sort=True).sum().reset_index()\n",
    "df_perStation = df_perStation.sort_values(by = ['TOTAL_TRAFFIC'],ascending=[False])\n",
    "print(df_perStation[:10])"
   ]
  },
  {
   "cell_type": "code",
   "execution_count": null,
   "metadata": {},
   "outputs": [],
   "source": [
    "with open('top10station_janjun2019', 'wb') as to_write:\n",
    "    pickle.dump(df_perStation, to_write)"
   ]
  },
  {
   "cell_type": "code",
   "execution_count": null,
   "metadata": {},
   "outputs": [],
   "source": [
    "with open('top10station_aprjun2019', 'wb') as to_write:\n",
    "    pickle.dump(df_perStation, to_write)"
   ]
  },
  {
   "cell_type": "code",
   "execution_count": null,
   "metadata": {},
   "outputs": [],
   "source": [
    "cleanedMTAData_april_to_june"
   ]
  }
 ],
 "metadata": {
  "kernelspec": {
   "display_name": "Python 3",
   "language": "python",
   "name": "python3"
  },
  "language_info": {
   "codemirror_mode": {
    "name": "ipython",
    "version": 3
   },
   "file_extension": ".py",
   "mimetype": "text/x-python",
   "name": "python",
   "nbconvert_exporter": "python",
   "pygments_lexer": "ipython3",
   "version": "3.7.4"
  }
 },
 "nbformat": 4,
 "nbformat_minor": 2
}
